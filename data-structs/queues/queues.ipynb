{
 "cells": [
  {
   "cell_type": "markdown",
   "metadata": {},
   "source": [
    "# Introduction to Queues\n",
    "\n",
    "A queue is a linear data structure that follows the FIFO (First in, First out) principle.\n",
    "\n",
    "Queues have two primary operations:\n",
    "1. **Enqueue** - Adds items to the back (rear) of the queue.\n",
    "2. **Dequeue** - Removes an item from the front of the queue. \n",
    "\n",
    "Other common operations:\n",
    "- **Front (Peek)** – Returns the front element without removing it.\n",
    "- **isEmpty** – Checks if the queue is empty.\n",
    "- **Size** – Returns the number of elements in the queue."
   ]
  },
  {
   "cell_type": "markdown",
   "metadata": {},
   "source": [
    "## Implementation:\n",
    "\n",
    "Queues can be implemented using:\n",
    "\n",
    "1. **Arrays** (Simple, but inefficient for dequeue)\n",
    "2. **Linked** Lists (Efficient for enqueue & dequeue)\n",
    "3. **Deque** (Double-Ended Queue, Optimized in Python)"
   ]
  }
 ],
 "metadata": {
  "language_info": {
   "name": "python"
  }
 },
 "nbformat": 4,
 "nbformat_minor": 2
}
