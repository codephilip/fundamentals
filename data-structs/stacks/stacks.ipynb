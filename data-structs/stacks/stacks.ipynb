{
 "cells": [
  {
   "cell_type": "markdown",
   "metadata": {},
   "source": [
    "# Introduction to Stacks\n",
    "\n",
    "A stack is a linear data structure that follows the LIFO (Last in, First out) principle.\n",
    "\n",
    "- add to the top: **push**\n",
    "- remove from the top: **pop**\n",
    "\n",
    "Other common operations:\n",
    "\n",
    "**Peek (Top)** – Returns the top element without removing it.\n",
    "**isEmpty** – Checks if the stack is empty.\n",
    "**Size** – Returns the number of elements in the stack."
   ]
  },
  {
   "cell_type": "markdown",
   "metadata": {},
   "source": [
    "## Implementation\n",
    "\n",
    "A stack can be implemented using:\n",
    "1. **Arrays**: (Fixed Size, Fast Operations)\n",
    "2. **Linked Lists**: (Dynamic size, more memory overhead)"
   ]
  },
  {
   "cell_type": "code",
   "execution_count": 1,
   "metadata": {},
   "outputs": [
    {
     "name": "stdout",
     "output_type": "stream",
     "text": [
      "20\n",
      "10\n",
      "1\n"
     ]
    }
   ],
   "source": [
    "# Using list to implement stack\n",
    "class Stack:\n",
    "    def __init__(self):\n",
    "        self.items = []\n",
    "    \n",
    "    def push(self, item):\n",
    "        self.items.append(item)\n",
    "\n",
    "    def pop(self):\n",
    "        return self.items.pop()\n",
    "    \n",
    "    def peek(self):\n",
    "        return self.items[-1]\n",
    "    \n",
    "    def size(self):\n",
    "        return len(self.items)\n",
    "    \n",
    "    def isEmpty(self):\n",
    "        return self.items == [] or len(self.items) == 0\n",
    "\n",
    "\n",
    "\n",
    "stack = Stack()\n",
    "stack.push(10)\n",
    "stack.push(20)\n",
    "\n",
    "print(stack.pop())\n",
    "print(stack.peek())\n",
    "print(stack.size())"
   ]
  },
  {
   "cell_type": "code",
   "execution_count": null,
   "metadata": {},
   "outputs": [],
   "source": [
    "# Using Singly Linked List to implement Stack\n",
    "class Node: \n",
    "    def __init__(self, data):\n",
    "        self.data = data\n",
    "        self.next = None\n",
    "\n",
    "class Stack:\n",
    "    def __init__(self):\n",
    "        self.top = None\n",
    "        self.size = 0\n",
    "\n",
    "    def push(self, data):\n",
    "        new_node = Node(data)\n",
    "        new_node.next = self.top\n",
    "        self.top = new_node\n",
    "        self.size += 1\n",
    "\n",
    "    def pop(self):\n",
    "        if self.isEmpty():\n",
    "            return \"Stack is empty\"\n",
    "        popped_value = self.top.data\n",
    "        self.top = self.top.next\n",
    "        self.size -= 1\n",
    "        return popped_value\n",
    "    \n",
    "    def peek(self):\n",
    "        return self.top.value if self.top else \"Stack is empty\"\n",
    "    \n",
    "    def is_empty(self):\n",
    "        return self.top is None\n",
    "\n",
    "    def size(self):\n",
    "        return self._size\n",
    "\n",
    "# Example usage\n",
    "stack = Stack()\n",
    "stack.push(5)\n",
    "stack.push(10)\n",
    "print(stack.pop())  # Output: 10\n",
    "print(stack.peek())  # Output: 5\n",
    "print(stack.size())  # Output: 1"
   ]
  }
 ],
 "metadata": {
  "kernelspec": {
   "display_name": "Python 3",
   "language": "python",
   "name": "python3"
  },
  "language_info": {
   "codemirror_mode": {
    "name": "ipython",
    "version": 3
   },
   "file_extension": ".py",
   "mimetype": "text/x-python",
   "name": "python",
   "nbconvert_exporter": "python",
   "pygments_lexer": "ipython3",
   "version": "3.9.6"
  }
 },
 "nbformat": 4,
 "nbformat_minor": 2
}
