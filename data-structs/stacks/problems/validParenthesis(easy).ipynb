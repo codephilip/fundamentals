{
 "cells": [
  {
   "cell_type": "markdown",
   "metadata": {},
   "source": [
    "# Valid Parenthesis\n",
    "\n",
    "You are given a string s consisting of the following characters: '(', ')', '{', '}', '[' and ']'.\n",
    "\n",
    "The input string s is valid if and only if:\n",
    "\n",
    "Every open bracket is closed by the same type of close bracket.\n",
    "Open brackets are closed in the correct order.\n",
    "Every close bracket has a corresponding open bracket of the same type.\n",
    "Return true if s is a valid string, and false otherwise."
   ]
  },
  {
   "cell_type": "markdown",
   "metadata": {},
   "source": [
    "Example 1:\n",
    "\n",
    "Input: s = \"[]\"\n",
    "\n",
    "Output: true\n",
    "Example 2:\n",
    "\n",
    "Input: s = \"([{}])\"\n",
    "\n",
    "Output: true\n",
    "Example 3:\n",
    "\n",
    "Input: s = \"[(])\"\n",
    "\n",
    "Output: false"
   ]
  },
  {
   "cell_type": "code",
   "execution_count": null,
   "metadata": {},
   "outputs": [],
   "source": [
    "class Solution:\n",
    "    \"\"\"\n",
    "    A class used to determine if a string of parentheses is valid.\n",
    "    Methods\n",
    "    -------\n",
    "    isValid(s: str) -> bool\n",
    "        Determines if the input string of parentheses is valid.\n",
    "    \"\"\"\n",
    "    \n",
    "    def isValid(self, s: str) -> bool:\n",
    "        \"\"\"\n",
    "        Determines if the input string of parentheses is valid.\n",
    "        A string of parentheses is considered valid if:\n",
    "        - Open brackets must be closed by the same type of brackets.\n",
    "        - Open brackets must be closed in the correct order.\n",
    "        \n",
    "        Parameters\n",
    "        ----------\n",
    "        s : str\n",
    "            The input string containing the parentheses to be validated.\n",
    "        \n",
    "        Returns\n",
    "        -------\n",
    "        bool\n",
    "            True if the input string is valid, False otherwise.\n",
    "        \"\"\"\n",
    "        # Initialize an empty stack to keep track of opening brackets\n",
    "        stack = []\n",
    "        \n",
    "        # Dictionary to map closing brackets to their corresponding opening brackets\n",
    "        bracket_map = {')': '(', '}': '{', ']': '['}\n",
    "        \n",
    "        # Iterate over each character in the input string\n",
    "        for char in s:\n",
    "            # If the character is a closing bracket\n",
    "            if char in bracket_map:\n",
    "                # Pop the top element from the stack if it's not empty, otherwise assign a dummy value\n",
    "                top_element = stack.pop() if stack else 'Invalid Token'\n",
    "                \n",
    "                # If the popped element doesn't match the corresponding opening bracket, return False\n",
    "                if bracket_map[char] != top_element:\n",
    "                    return False\n",
    "            else:\n",
    "                # If the character is an opening bracket, push it onto the stack\n",
    "                stack.append(char)\n",
    "        \n",
    "        # If the stack is empty, all opening brackets were properly closed; otherwise, return False\n",
    "        return not stack\n"
   ]
  },
  {
   "cell_type": "code",
   "execution_count": null,
   "metadata": {
    "vscode": {
     "languageId": "markdown"
    }
   },
   "outputs": [],
   "source": [
    "## Runtime Analysis:\n",
    "\n",
    "O(n)"
   ]
  }
 ],
 "metadata": {
  "language_info": {
   "name": "python"
  }
 },
 "nbformat": 4,
 "nbformat_minor": 2
}
