{
 "cells": [
  {
   "cell_type": "markdown",
   "metadata": {},
   "source": [
    "# Linked List\n",
    "\n",
    "A linked list is a fundamental data structure used in computer science and programming. It's a linear data structure where elements are stored in nodes, and each node points to the next node in the sequence, forming a chain-like structure. Linked lists are versatile and can be used for various applications..\n",
    "\n"
   ]
  },
  {
   "cell_type": "markdown",
   "metadata": {},
   "source": [
    "## Types of Linked Lists\n",
    "\n",
    "There are several types of linked lists:\n",
    "\n",
    "- **Singly Linked List:**\n",
    "Each Node points to the next node in the list. Its the simplest type of linked list.\n",
    "\n",
    "    - Head -> [D | N] -> [D | N] -> null\n",
    "\n",
    "- **Doubly Linked List:**\n",
    "Each node points to both the next and the previous node, allowing for easier traversal in both directions.\n",
    "\n",
    "    - null <- [P | D | N] <-> [P | D | N] -> null\n",
    "\n",
    "- **Circular Linked List:**\n",
    "In this type, the last node points back to the first node forming a closed loop. \n",
    "\n",
    "    - Head -> [D | N] -> [D | N] -> Head\n"
   ]
  },
  {
   "cell_type": "markdown",
   "metadata": {},
   "source": [
    "# Anatomy of a Node: \n",
    "\n",
    "A node in a linked list typically consists of 2 parts: \n",
    "\n",
    "- **Data**: This is the value or payload stored in the node. It can be any data type depending on application.\n",
    "\n",
    "- **Pointer/Reference**: This is a reference to the next (and sometimes previous) node in the list. In Python, you can use references or pointers through object references.\n"
   ]
  },
  {
   "cell_type": "markdown",
   "metadata": {},
   "source": [
    "# Creating a singly linked list"
   ]
  },
  {
   "cell_type": "code",
   "execution_count": 1,
   "metadata": {},
   "outputs": [],
   "source": [
    "class Node:\n",
    "    def __init__(self, data):\n",
    "        self.data = data\n",
    "        self.next = None\n",
    "\n",
    "class LinkedList:\n",
    "    def __init__(self):\n",
    "        self.head = None\n",
    "\n",
    "    def append(self, data):\n",
    "        new_node = Node(data)\n",
    "        if not self.head:\n",
    "            self.head = new_node\n",
    "        else:\n",
    "            current = self.head\n",
    "            while current.next:\n",
    "                current = current.next\n",
    "            current.next = new_node"
   ]
  },
  {
   "cell_type": "markdown",
   "metadata": {},
   "source": [
    "## Traversing a Linked List"
   ]
  },
  {
   "cell_type": "code",
   "execution_count": 3,
   "metadata": {},
   "outputs": [],
   "source": [
    "def display(self):\n",
    "    current = self.head\n",
    "    while current:\n",
    "        print(current.data, end=\" -> \")\n",
    "        current = current.next\n",
    "    print(\"None\")"
   ]
  },
  {
   "cell_type": "markdown",
   "metadata": {},
   "source": [
    "## Deleting a Node"
   ]
  },
  {
   "cell_type": "code",
   "execution_count": 5,
   "metadata": {},
   "outputs": [],
   "source": [
    "def delete(self, value):\n",
    "    current = self.head\n",
    "\n",
    "    if current is not None and current.data == value:\n",
    "        self.head = current.next\n",
    "        return\n",
    "\n",
    "    prev = None\n",
    "    while current is not None:\n",
    "        if current.data == value:\n",
    "            break\n",
    "        prev = current\n",
    "        current = current.next\n",
    "\n",
    "    if current is None:\n",
    "        return\n",
    "\n",
    "    prev.next = current.next"
   ]
  },
  {
   "cell_type": "markdown",
   "metadata": {},
   "source": [
    "## Inserting Nodes"
   ]
  },
  {
   "cell_type": "code",
   "execution_count": 7,
   "metadata": {},
   "outputs": [],
   "source": [
    "def insert_at_end(self, data):\n",
    "    new_node = Node(data)\n",
    "    if not self.head:\n",
    "        self.head = new_node\n",
    "    else:\n",
    "        current = self.head\n",
    "        while current.next:\n",
    "            current = current.next\n",
    "        current.next = new_node"
   ]
  },
  {
   "cell_type": "code",
   "execution_count": null,
   "metadata": {},
   "outputs": [],
   "source": []
  }
 ],
 "metadata": {
  "kernelspec": {
   "display_name": "Python 3.9.7 ('base')",
   "language": "python",
   "name": "python3"
  },
  "language_info": {
   "codemirror_mode": {
    "name": "ipython",
    "version": 3
   },
   "file_extension": ".py",
   "mimetype": "text/x-python",
   "name": "python",
   "nbconvert_exporter": "python",
   "pygments_lexer": "ipython3",
   "version": "3.9.7"
  },
  "orig_nbformat": 4,
  "vscode": {
   "interpreter": {
    "hash": "9599c78845c2f817334a12cf0407754aee56dbb705acf308e6a154fabc271acd"
   }
  }
 },
 "nbformat": 4,
 "nbformat_minor": 2
}
