{
 "cells": [
  {
   "cell_type": "markdown",
   "metadata": {},
   "source": [
    "# Linked List\n",
    "\n",
    "A linked list is a fundamental data structure used in computer science and programming. It's a linear data structure where elements are stored in nodes, and each node points to the next node in the sequence, forming a chain-like structure. Linked lists are versatile and can be used for various applications..\n",
    "\n"
   ]
  },
  {
   "cell_type": "markdown",
   "metadata": {},
   "source": [
    "## Types of Linked Lists\n",
    "\n",
    "There are several types of linked lists:\n",
    "\n",
    "- **Singly Linked List:**\n",
    "Each Node points to the next node in the list. Its the simplest type of linked list.\n",
    "\n",
    "    - Head -> [D | N] -> [D | N] -> null\n",
    "\n",
    "- **Doubly Linked List:**\n",
    "Each node points to both the next and the previous node, allowing for easier traversal in both directions.\n",
    "\n",
    "    - null <- [P | D | N] <-> [P | D | N] -> null\n",
    "\n",
    "- **Circular Linked List:**\n",
    "In this type, the last node points back to the first node forming a closed loop. \n",
    "\n",
    "    - Head -> [D | N] -> [D | N] -> Head\n"
   ]
  },
  {
   "cell_type": "markdown",
   "metadata": {},
   "source": [
    "# Anatomy of a Node: \n",
    "\n",
    "A node in a linked list typically consists of 2 parts: \n",
    "\n",
    "- **Data**: This is the value or payload stored in the node. It can be any data type depending on application.\n",
    "\n",
    "- **Pointer/Reference**: This is a reference to the next (and sometimes previous) node in the list. In Python, you can use references or pointers through object references.\n"
   ]
  },
  {
   "cell_type": "markdown",
   "metadata": {},
   "source": [
    "# Creating a singly linked list"
   ]
  },
  {
   "cell_type": "code",
   "execution_count": 1,
   "metadata": {},
   "outputs": [],
   "source": [
    "class Node:\n",
    "    def __init__(self, data):\n",
    "        self.data = data\n",
    "        self.next = None\n",
    "\n",
    "class LinkedList:\n",
    "    def __init__(self):\n",
    "        self.head = None\n",
    "\n",
    "    def append(self, data):\n",
    "        new_node = Node(data)\n",
    "        if not self.head:\n",
    "            self.head = new_node\n",
    "        else:\n",
    "            current = self.head\n",
    "            while current.next:\n",
    "                current = current.next\n",
    "            current.next = new_node"
   ]
  },
  {
   "cell_type": "markdown",
   "metadata": {},
   "source": [
    "## Traversing a Linked List"
   ]
  },
  {
   "cell_type": "code",
   "execution_count": 3,
   "metadata": {},
   "outputs": [],
   "source": [
    "def display(self):\n",
    "    current = self.head\n",
    "    while current:\n",
    "        print(current.data, end=\" -> \")\n",
    "        current = current.next\n",
    "    print(\"None\")"
   ]
  },
  {
   "cell_type": "markdown",
   "metadata": {},
   "source": [
    "## Deleting a Node"
   ]
  },
  {
   "cell_type": "code",
   "execution_count": 5,
   "metadata": {},
   "outputs": [],
   "source": [
    "def delete(self, value):\n",
    "    current = self.head\n",
    "\n",
    "    if current is not None and current.data == value:\n",
    "        self.head = current.next\n",
    "        return\n",
    "\n",
    "    prev = None\n",
    "    while current is not None:\n",
    "        if current.data == value:\n",
    "            break\n",
    "        prev = current\n",
    "        current = current.next\n",
    "\n",
    "    if current is None:\n",
    "        return\n",
    "\n",
    "    prev.next = current.next"
   ]
  },
  {
   "cell_type": "markdown",
   "metadata": {},
   "source": [
    "## Inserting Nodes"
   ]
  },
  {
   "cell_type": "code",
   "execution_count": 7,
   "metadata": {},
   "outputs": [],
   "source": [
    "def insert_at_end(self, data):\n",
    "    new_node = Node(data)\n",
    "    if not self.head:\n",
    "        self.head = new_node\n",
    "    else:\n",
    "        current = self.head\n",
    "        while current.next:\n",
    "            current = current.next\n",
    "        current.next = new_node"
   ]
  },
  {
   "cell_type": "markdown",
   "metadata": {},
   "source": [
    "# Doubly Linked List\n",
    "\n",
    "Each Node has two pointers: \n",
    "- next(forward)\n",
    "- prev(backward)\n",
    "\n",
    "None ← [10 | * | *] ↔ [20 | * | *] ↔ [30 | * | *] → None"
   ]
  },
  {
   "cell_type": "code",
   "execution_count": 1,
   "metadata": {},
   "outputs": [
    {
     "name": "stdout",
     "output_type": "stream",
     "text": [
      "1 ↔ 2 ↔ None\n"
     ]
    }
   ],
   "source": [
    "class DNode:\n",
    "    def __init__(self, data):\n",
    "        self.data = data\n",
    "        self.next = None\n",
    "        self.prev = None\n",
    "\n",
    "class DoublyLinkedList:\n",
    "    def __init__(self):\n",
    "        self.head = None\n",
    "\n",
    "    def append(self, data):\n",
    "        new_node = DNode(data)\n",
    "        if not self.head:\n",
    "            self.head = new_node\n",
    "            return\n",
    "        temp = self.head\n",
    "        while temp.next:\n",
    "            temp = temp.next\n",
    "        temp.next = new_node\n",
    "        new_node.prev = temp  # Connect backward\n",
    "\n",
    "    def display_forward(self):\n",
    "        temp = self.head\n",
    "        while temp:\n",
    "            print(temp.data, end=\" ↔ \")\n",
    "            temp = temp.next\n",
    "        print(\"None\")\n",
    "\n",
    "\n",
    "dll = DoublyLinkedList()\n",
    "dll.append(1)\n",
    "dll.append(2)\n",
    "dll.display_forward()         "
   ]
  },
  {
   "cell_type": "markdown",
   "metadata": {},
   "source": [
    "Operations:\n",
    "\n",
    "- Insert at beginning: O(1)\n",
    "- Insert at end: O(n)\n",
    "- Delete node: O(n)\n",
    "- Traversal (forward and backward): O(n)"
   ]
  },
  {
   "cell_type": "markdown",
   "metadata": {},
   "source": [
    "# Circular Linked List:\n",
    "- The last node links back to the first node, forming a cycle.\n",
    "\n",
    "**Singly Circular Linked List**:\n",
    "\n",
    "- [10 | *] → [20 | *] → [30 | *] → (back to first node)\n",
    "\n",
    "**Doubly Circular Linked List**:\n",
    "\n",
    "- None ← [10 | * | *] ↔ [20 | * | *] ↔ [30 | * | *] → (back to first node)"
   ]
  },
  {
   "cell_type": "code",
   "execution_count": 2,
   "metadata": {},
   "outputs": [
    {
     "name": "stdout",
     "output_type": "stream",
     "text": [
      "10 → 20 → 30 → (back to head)\n"
     ]
    }
   ],
   "source": [
    "class CNode:\n",
    "    def __init__(self, data):\n",
    "        self.data = data\n",
    "        self.next = None\n",
    "\n",
    "class CircularLinkedList:\n",
    "    def __init__(self):\n",
    "        self.head = None\n",
    "\n",
    "    def append(self, data):\n",
    "        new_node = CNode(data)\n",
    "        if not self.head:\n",
    "            self.head = new_node\n",
    "            new_node.next = self.head  # Point to itself\n",
    "            return\n",
    "        temp = self.head\n",
    "        while temp.next != self.head:\n",
    "            temp = temp.next\n",
    "        temp.next = new_node\n",
    "        new_node.next = self.head  # Maintain circularity\n",
    "\n",
    "    def display(self):\n",
    "        if not self.head:\n",
    "            return\n",
    "        temp = self.head\n",
    "        while True:\n",
    "            print(temp.data, end=\" → \")\n",
    "            temp = temp.next\n",
    "            if temp == self.head:\n",
    "                break\n",
    "        print(\"(back to head)\")\n",
    "\n",
    "# Example Usage\n",
    "cll = CircularLinkedList()\n",
    "cll.append(10)\n",
    "cll.append(20)\n",
    "cll.append(30)\n",
    "cll.display()  # Output: 10 → 20 → 30 → (back to head)\n"
   ]
  }
 ],
 "metadata": {
  "kernelspec": {
   "display_name": "Python 3",
   "language": "python",
   "name": "python3"
  },
  "language_info": {
   "codemirror_mode": {
    "name": "ipython",
    "version": 3
   },
   "file_extension": ".py",
   "mimetype": "text/x-python",
   "name": "python",
   "nbconvert_exporter": "python",
   "pygments_lexer": "ipython3",
   "version": "3.9.6"
  },
  "orig_nbformat": 4
 },
 "nbformat": 4,
 "nbformat_minor": 2
}
