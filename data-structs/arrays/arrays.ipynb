{
 "cells": [
  {
   "cell_type": "markdown",
   "metadata": {},
   "source": [
    "# Introduction to Arrays"
   ]
  },
  {
   "cell_type": "markdown",
   "metadata": {},
   "source": [
    "An array is a data structure used to store a collection of items of the same type. Arrays are indexed, meaning you can access elements by their position (index). \n",
    "- The index typically starts at 0."
   ]
  },
  {
   "cell_type": "markdown",
   "metadata": {},
   "source": [
    "# Types of Arrays"
   ]
  },
  {
   "cell_type": "markdown",
   "metadata": {},
   "source": [
    "## 1D Arrays (One-Dimensional Arrays):\n",
    "A 1D array is a **linear collection** of elements.\n",
    "\n",
    "Think of it as a single row or a list of items.\n",
    "\n",
    "Example (in Python):"
   ]
  },
  {
   "cell_type": "code",
   "execution_count": null,
   "metadata": {},
   "outputs": [],
   "source": [
    "arr = [1, 2, 3, 4, 5]  # A 1D array\n",
    "print(arr[2])  # Access element at index 2 (output: 3)\n"
   ]
  },
  {
   "cell_type": "markdown",
   "metadata": {},
   "source": [
    "## 2D Arrays (Two-Dimensional Arrays):\n",
    "A 2D array is like a table or a grid with rows and columns.\n",
    "\n",
    "Elements are accessed using two indices: [row][column].\n",
    "\n",
    "Example (in Python):"
   ]
  },
  {
   "cell_type": "code",
   "execution_count": 4,
   "metadata": {},
   "outputs": [
    {
     "name": "stdout",
     "output_type": "stream",
     "text": [
      "6\n"
     ]
    }
   ],
   "source": [
    "arr = [\n",
    "    [1, 2, 3],  # Row 0\n",
    "    [4, 5, 6],  # Row 1\n",
    "    [7, 8, 9]   # Row 2\n",
    "]\n",
    "print(arr[1][2])  # Access the element at row 1, column 2 (output: 6)\n"
   ]
  },
  {
   "cell_type": "markdown",
   "metadata": {},
   "source": [
    "### Operations:\n",
    "\n",
    "- Access: arr[row][column]\n",
    "- Modify: arr[row][column] = value\n",
    "- Iterate:"
   ]
  },
  {
   "cell_type": "code",
   "execution_count": 11,
   "metadata": {},
   "outputs": [
    {
     "name": "stdout",
     "output_type": "stream",
     "text": [
      "[1, 2, 3]\n",
      "[4, 5, 6]\n",
      "[7, 8, 9]\n",
      "[10, 11, 12]\n"
     ]
    }
   ],
   "source": [
    "for row in arr:\n",
    "    for element in row:\n",
    "        print(element)\n"
   ]
  },
  {
   "cell_type": "markdown",
   "metadata": {},
   "source": [
    "## Multidimensional Arrays:\n",
    "\n",
    "These extend the concept of 2D arrays into more dimensions (3D, 4D, etc.).\n",
    "\n",
    "A 3D array, for example, can be visualized as a cube of elements (rows, columns, and depth).\n",
    "\n",
    "Example of a 3D array:"
   ]
  },
  {
   "cell_type": "code",
   "execution_count": 14,
   "metadata": {},
   "outputs": [
    {
     "name": "stdout",
     "output_type": "stream",
     "text": [
      "9\n"
     ]
    }
   ],
   "source": [
    "arr = [\n",
    "    [  # Depth 0\n",
    "        [1, 2, 3],  # Row 0\n",
    "        [4, 5, 6]   # Row 1\n",
    "    ],\n",
    "    [  # Depth 1\n",
    "        [7, 8, 9],  # Row 0\n",
    "        [10, 11, 12]  # Row 1\n",
    "    ]\n",
    "]\n",
    "print(arr[1][0][2])  # Access Depth 1, Row 0, Column 2 (output: 9)\n"
   ]
  },
  {
   "cell_type": "markdown",
   "metadata": {},
   "source": [
    "Operations:\n",
    "\n",
    "Same as 2D arrays but with an additional level of indexing.\n",
    "Iterate:"
   ]
  },
  {
   "cell_type": "code",
   "execution_count": 9,
   "metadata": {},
   "outputs": [
    {
     "name": "stdout",
     "output_type": "stream",
     "text": [
      "1\n",
      "2\n",
      "3\n",
      "4\n",
      "5\n",
      "6\n",
      "7\n",
      "8\n",
      "9\n",
      "10\n",
      "11\n",
      "12\n"
     ]
    }
   ],
   "source": [
    "\n",
    "for depth in arr:\n",
    "    for row in depth:\n",
    "        for element in row:\n",
    "            print(element)"
   ]
  },
  {
   "cell_type": "markdown",
   "metadata": {},
   "source": [
    "## Lists vs. Arrays\n",
    "\n",
    "Lists:\n",
    "\n",
    "- **Flexible (dynamically sized)** and can store elements of **different types**.\n",
    "- Built-in in languages like Python (list).\n",
    "\n",
    "Arrays:\n",
    "\n",
    "- **Fixed size** (in most languages).\n",
    "- Elements must be of the **same type**.\n",
    "- More **memory efficient** than lists.\n",
    "\n"
   ]
  }
 ],
 "metadata": {
  "kernelspec": {
   "display_name": "Python 3",
   "language": "python",
   "name": "python3"
  },
  "language_info": {
   "codemirror_mode": {
    "name": "ipython",
    "version": 3
   },
   "file_extension": ".py",
   "mimetype": "text/x-python",
   "name": "python",
   "nbconvert_exporter": "python",
   "pygments_lexer": "ipython3",
   "version": "3.9.6"
  }
 },
 "nbformat": 4,
 "nbformat_minor": 2
}
